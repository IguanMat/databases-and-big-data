{
  "nbformat": 4,
  "nbformat_minor": 0,
  "metadata": {
    "colab": {
      "provenance": []
    },
    "kernelspec": {
      "name": "python3",
      "display_name": "Python 3"
    },
    "language_info": {
      "name": "python"
    }
  },
  "cells": [
    {
      "cell_type": "markdown",
      "source": [
        "#Lutwaffe\n",
        "###**Descrizione**\n",
        "Il dataset riguarda luoghi e perdite dell’aviazione tedesca durante la seconda guerra mondiale.\n"
      ],
      "metadata": {
        "id": "E83JUIr_Ym1L"
      }
    },
    {
      "cell_type": "markdown",
      "source": [
        "#Setup environment"
      ],
      "metadata": {
        "id": "7SbQrMx9Y2RM"
      }
    },
    {
      "cell_type": "code",
      "execution_count": null,
      "metadata": {
        "id": "BNXaYq0Ruahm"
      },
      "outputs": [],
      "source": [
        "!apt-get install openjdk-8-jdk-headless -qq > /dev/null"
      ]
    },
    {
      "cell_type": "code",
      "source": [
        "!wget -q https://downloads.apache.org/spark/spark-3.3.1/spark-3.3.1-bin-hadoop3.tgz"
      ],
      "metadata": {
        "id": "9bi9-repwLqT"
      },
      "execution_count": null,
      "outputs": []
    },
    {
      "cell_type": "code",
      "source": [
        "!ls"
      ],
      "metadata": {
        "colab": {
          "base_uri": "https://localhost:8080/"
        },
        "id": "W-XO8UXZwMCs",
        "outputId": "112cb256-a8ed-4f65-b9b1-678728b7eb89"
      },
      "execution_count": null,
      "outputs": [
        {
          "output_type": "stream",
          "name": "stdout",
          "text": [
            "lutwaffe-posizioni.csv\t sample_data\t\t  spark-3.3.1-bin-hadoop3.tgz\n",
            "lutwaffe-variazioni.csv  spark-3.3.1-bin-hadoop3  spark-3.3.1-bin-hadoop3.tgz.1\n"
          ]
        }
      ]
    },
    {
      "cell_type": "code",
      "source": [
        "!tar xf spark-3.3.1-bin-hadoop3.tgz"
      ],
      "metadata": {
        "id": "btj_nFG8wPOc"
      },
      "execution_count": null,
      "outputs": []
    },
    {
      "cell_type": "code",
      "source": [
        "!pip install -q findspark"
      ],
      "metadata": {
        "id": "YJlgfjCewXnz"
      },
      "execution_count": null,
      "outputs": []
    },
    {
      "cell_type": "code",
      "source": [
        "import os\n",
        "os.environ[\"JAVA_HOME\"] = \"/usr/lib/jvm/java-8-openjdk-amd64\"\n",
        "os.environ[\"SPARK_HOME\"] = \"/content/spark-3.3.1-bin-hadoop3\""
      ],
      "metadata": {
        "id": "Pus7SJ9pwaCL"
      },
      "execution_count": null,
      "outputs": []
    },
    {
      "cell_type": "code",
      "source": [
        "import findspark\n",
        "findspark.init()\n",
        "from pyspark.sql import SparkSession\n",
        "spark = SparkSession.builder.master(\"local[*]\").getOrCreate()"
      ],
      "metadata": {
        "id": "WndIiNNfwcey"
      },
      "execution_count": null,
      "outputs": []
    },
    {
      "cell_type": "code",
      "source": [
        "sc = spark.sparkContext"
      ],
      "metadata": {
        "id": "K2cLccHywehZ"
      },
      "execution_count": null,
      "outputs": []
    },
    {
      "cell_type": "markdown",
      "source": [
        "#Import dataset\n",
        "I due csv sono stati prima caricati in File"
      ],
      "metadata": {
        "id": "FP_Qv9EDZDFN"
      }
    },
    {
      "cell_type": "code",
      "source": [
        "df_var = spark.read.csv(\"/content/lutwaffe-variazioni.csv\",header=True,inferSchema=True)\n",
        "df_var.show()"
      ],
      "metadata": {
        "colab": {
          "base_uri": "https://localhost:8080/"
        },
        "id": "_XnJqjmV6Zt2",
        "outputId": "c749be55-4abf-4dda-b32c-47559602cad0"
      },
      "execution_count": null,
      "outputs": [
        {
          "output_type": "stream",
          "name": "stdout",
          "text": [
            "+--------------------+----------------+------------+--------+----------------+---------+----+-------+---------------+---------------+----+----------+-------------+----------------+----------------+---------+-------------------+\n",
            "|          group_type| squadron_number|group_number|subgroup|           total|    model| add|add_new|add_maintenance|add_other_units|lost|lost_enemy|lost_accident|lost_maintenance|lost_other_units|total_eom|               date|\n",
            "+--------------------+----------------+------------+--------+----------------+---------+----+-------+---------------+---------------+----+----------+-------------+----------------+----------------+---------+-------------------+\n",
            "|   Aufklärungsgruppe|               1|          10|    null|               9|Fw 189A-1|   0|      0|              0|              0|   0|         0|            0|               0|               0|        9|1942-03-15 00:00:00|\n",
            "|   Aufklärungsgruppe|               1|          10|    null|               9|Fw 189A-1|   0|      0|              0|              0|   0|         0|            0|               0|               0|        9|1942-04-15 00:00:00|\n",
            "|   Aufklärungsgruppe|               1|          10|    null|               9|Fw 189A-1|   1|      1|              0|              0|   2|         2|            0|               0|               0|        8|1942-05-15 00:00:00|\n",
            "|   Aufklärungsgruppe|               1|          10|    null|               0|   Hs 126|   1|      0|              0|              1|   0|         0|            0|               0|               0|        1|1942-05-15 00:00:00|\n",
            "|   Aufklärungsgruppe|               1|          10|    null|               8|Fw 189A-1|   1|      1|              0|              0|   0|         0|            0|               0|               0|        9|1942-06-15 00:00:00|\n",
            "|   Aufklärungsgruppe|               1|          10|    null|               1|   Hs 126|   0|      0|              0|              0|   1|         0|            0|               0|               1|        0|1942-06-15 00:00:00|\n",
            "|   Aufklärungsgruppe|               1|          10|    null|               9|Fw 189A-1|   0|      0|              0|              0|   0|         0|            0|               0|               0|        9|1942-07-15 00:00:00|\n",
            "|   Aufklärungsgruppe|               1|          10|    null|               4|Fw 189A-1|   1|      0|              1|              0|   3|         0|            3|               0|               0|        2|1942-08-15 00:00:00|\n",
            "|   Aufklärungsgruppe|               1|          10|    null|               2|Fw 189A-2|   0|      0|              0|              0|   0|         0|            0|               0|               0|        2|1942-08-15 00:00:00|\n",
            "|   Aufklärungsgruppe|               1|          10|    null|               3|Fw 189A-3|   0|      0|              0|              0|   1|         0|            1|               0|               0|        2|1942-08-15 00:00:00|\n",
            "|   Aufklärungsgruppe|               1|          10|    null|               2|Fw 189A-1|   1|      1|              0|              0|   1|         0|            0|               1|               0|        2|1942-09-15 00:00:00|\n",
            "|   Aufklärungsgruppe|               1|          10|    null|               2|Fw 189A-2|   0|      0|              0|              0|   1|         1|            0|               0|               0|        1|1942-09-15 00:00:00|\n",
            "|   Aufklärungsgruppe|               1|          10|    null|               2|Fw 189A-3|   1|      1|              0|              0|   1|         0|            0|               1|               0|        2|1942-09-15 00:00:00|\n",
            "|   Aufklärungsgruppe|               1|          10|    null|               2|Fw 189A-1|   1|      0|              0|              1|   1|         0|            0|               1|               0|        2|1942-10-15 00:00:00|\n",
            "|   Aufklärungsgruppe|               1|          10|    null|               1|Fw 189A-2|   1|      1|              0|              0|   0|         0|            0|               0|               0|        2|1942-10-15 00:00:00|\n",
            "|   Aufklärungsgruppe|               1|          10|    null|               2|Fw 189A-3|   0|      0|              0|              0|   0|         0|            0|               0|               0|        2|1942-10-15 00:00:00|\n",
            "|   Aufklärungsgruppe|               1|          10|    null|See Aufkl.Gruppe|     null|null|   null|           null|           null|null|      null|         null|            null|            null|     null|               null|\n",
            "|        Fleischmann\"|See Aufkl.Gruppe|        null|    null|            null|     null|null|   null|           null|           null|null|      null|         null|            null|            null|     null|               null|\n",
            "|        Fleischmann\"|See Aufkl.Gruppe|        null|    null|            null|     null|null|   null|           null|           null|null|      null|         null|            null|            null|     null|               null|\n",
            "|        Fleischmann\"|See Aufkl.Gruppe|        null|    null|            null|     null|null|   null|           null|           null|null|      null|         null|            null|            null|     null|               null|\n",
            "+--------------------+----------------+------------+--------+----------------+---------+----+-------+---------------+---------------+----+----------+-------------+----------------+----------------+---------+-------------------+\n",
            "only showing top 20 rows\n",
            "\n"
          ]
        }
      ]
    },
    {
      "cell_type": "code",
      "source": [
        "df_pos = spark.read.csv(\"/content/lutwaffe-posizioni.csv\",header=True,inferSchema=True)\n",
        "df_pos.show()"
      ],
      "metadata": {
        "colab": {
          "base_uri": "https://localhost:8080/"
        },
        "id": "RaH0DgRDctsQ",
        "outputId": "6ca84d85-ad79-427b-b389-55e2edb773e9"
      },
      "execution_count": null,
      "outputs": [
        {
          "output_type": "stream",
          "name": "stdout",
          "text": [
            "+--------------------+---------------+------------+--------+----------------+----------------+--------------------+-------------------+\n",
            "|          group_type|squadron_number|group_number|subgroup|             lat|             lon|           locations|               date|\n",
            "+--------------------+---------------+------------+--------+----------------+----------------+--------------------+-------------------+\n",
            "|      Jagdgeschwader|             NA|          27|    Stab|           30.25|          19.195|          El Agheila|1942-01-15 00:00:00|\n",
            "|Sturzkampfgeschwader|             NA|           2|      II|        30.26132|        19.18885|El Aghelia, Agedabia|1941-04-15 00:00:00|\n",
            "|      Jagdgeschwader|             NA|          27|      II|30.4583333333333|          18.575|    Arco Philaenorum|1942-01-15 00:00:00|\n",
            "|      Jagdgeschwader|             NA|          27|      II|30.4583333333333|          18.575|    Arco Philaenorum|1942-11-15 00:00:00|\n",
            "|Sturzkampfgeschwader|             NA|           1|       I|30.4583333333333|          18.575|     Arco Philenorum|1941-12-15 00:00:00|\n",
            "|Sturzkampfgeschwader|             NA|           3|       I|30.4583333333333|          18.575|     Arco Philenorum|1941-12-15 00:00:00|\n",
            "|Sturzkampfgeschwader|             NA|           3|    Stab|30.4583333333333|          18.575|     Arco Philenorum|1941-12-15 00:00:00|\n",
            "|      Jagdgeschwader|             NA|          77|       I|30.4583333333333|          18.575|    Arco-Philaenorum|1942-11-15 00:00:00|\n",
            "|      Jagdgeschwader|             NA|          77|     III|30.4583333333333|          18.575|    Arco-Philaenorum|1942-11-15 00:00:00|\n",
            "|      Jagdgeschwader|             NA|          77|    Stab|30.4583333333333|          18.575|    Arco-Philaenorum|1942-11-15 00:00:00|\n",
            "|Sturzkampfgeschwader|             NA|           2|      II|30.7083333333333|16.4333333333333|          El Machina|1941-03-15 00:00:00|\n",
            "|      Jagdgeschwader|             NA|          27|       I|           30.75|20.2166666666667|            Agedabia|1942-01-15 00:00:00|\n",
            "|      Jagdgeschwader|             NA|          27|     III|           30.75|20.2166666666667|            Agedabia|1942-01-15 00:00:00|\n",
            "|Sturzkampfgeschwader|             NA|           3|      II|           30.75|20.2166666666667|            Agedabia|1942-01-15 00:00:00|\n",
            "|Sturzkampfgeschwader|             NA|           1|       I|           30.75|20.2166666666667|            Agedabia|1942-10-15 00:00:00|\n",
            "|Sturzkampfgeschwader|             NA|           1|       I|           30.75|20.2166666666667|            Agedabia|1943-01-15 00:00:00|\n",
            "|Sturzkampfgeschwader|             NA|           1|       I|           30.75|20.2166666666667|            Agedabia|1942-01-15 00:00:00|\n",
            "|Sturzkampfgeschwader|             NA|           1|       I|           30.75|20.2166666666667|            Agedabia|1942-02-15 00:00:00|\n",
            "|Sturzkampfgeschwader|             NA|           1|       I|           30.75|20.2166666666667|            Agedabia|1942-03-15 00:00:00|\n",
            "|Sturzkampfgeschwader|             NA|           1|       I|           30.75|20.2166666666667|            Agedabia|1942-04-15 00:00:00|\n",
            "+--------------------+---------------+------------+--------+----------------+----------------+--------------------+-------------------+\n",
            "only showing top 20 rows\n",
            "\n"
          ]
        }
      ]
    },
    {
      "cell_type": "markdown",
      "source": [
        "##Quesito 1: Qual è la media delle flotte trimestre per trimestre del numero totale degli apparecchi?"
      ],
      "metadata": {
        "id": "bGUNyM14Lkk2"
      }
    },
    {
      "cell_type": "code",
      "source": [
        "from pyspark.sql import functions as F\n",
        "\n",
        "df_var.na.drop(how=\"any\", subset=[\"total\",\"date\"])\\\n",
        ".withColumn(\"trimestre\", F.quarter(df_var[\"date\"]))\\\n",
        ".groupBy(\"trimestre\").agg(F.avg('total').alias('media trimestrale')).show()"
      ],
      "metadata": {
        "colab": {
          "base_uri": "https://localhost:8080/"
        },
        "id": "DqotRq3j9ezF",
        "outputId": "e0b78ce6-3a2d-4ce6-d53d-a52868d722f1"
      },
      "execution_count": null,
      "outputs": [
        {
          "output_type": "stream",
          "name": "stdout",
          "text": [
            "+---------+------------------+\n",
            "|trimestre| media trimestrale|\n",
            "+---------+------------------+\n",
            "|        1| 7.225451807228915|\n",
            "|        3| 7.255362384285392|\n",
            "|        4| 7.904384384384384|\n",
            "|        2|7.3834137376521936|\n",
            "+---------+------------------+\n",
            "\n"
          ]
        }
      ]
    },
    {
      "cell_type": "markdown",
      "source": [
        "##Quesito 2: Qual è la media delle flotte della percentuale di apparecchi persi in combattimento?"
      ],
      "metadata": {
        "id": "3y_t8xqGLotX"
      }
    },
    {
      "cell_type": "code",
      "source": [
        "df_var.na.drop(how=\"any\",subset=[\"total\",\"lost_enemy\"])\\\n",
        ".withColumn(\"percent_lost_enemy\", df_var[\"lost_enemy\"] * 100 / df_var[\"total\"])\\\n",
        ".agg(F.mean('percent_lost_enemy').alias('media delle flotte della percentuale di apparecchi persi in combattimento')).show()"
      ],
      "metadata": {
        "colab": {
          "base_uri": "https://localhost:8080/"
        },
        "id": "AofvTTu8j1f8",
        "outputId": "bfa5b329-fc7e-4a53-fbf7-429b4980fda8"
      },
      "execution_count": null,
      "outputs": [
        {
          "output_type": "stream",
          "name": "stdout",
          "text": [
            "+-------------------------------------------------------------------------+\n",
            "|media delle flotte della percentuale di apparecchi persi in combattimento|\n",
            "+-------------------------------------------------------------------------+\n",
            "|                                                        8.654453206568132|\n",
            "+-------------------------------------------------------------------------+\n",
            "\n"
          ]
        }
      ]
    },
    {
      "cell_type": "markdown",
      "source": [
        "##Quesito 3: Qual è la varianza delle variazioni a livello mensile degli apparecchi, sul totale delle flotte? (non è permesso usare le funzioni pre-fabbricate per calcolare la varianza)"
      ],
      "metadata": {
        "id": "SWMarV7HNZtu"
      }
    },
    {
      "cell_type": "code",
      "source": [
        "df = df_var.na.drop(how=\"any\",subset=[\"total\",\"total_eom\"])\\\n",
        ".withColumn(\"monthly_var\", F.col(\"total_eom\") - F.col(\"total\"))\n",
        "\n",
        "mean = df.agg(F.mean(\"monthly_var\")).first()[0]\n",
        "\n",
        "df.withColumn(\"squared_dev\", F.pow(F.col(\"monthly_var\") - mean, 2))\\\n",
        ".agg((F.sum(\"squared_dev\") / (F.count(\"monthly_var\") - 1))\\\n",
        "     .alias(\"varianza delle variazioni a livello mensile degli apparecchi\")).show()"
      ],
      "metadata": {
        "colab": {
          "base_uri": "https://localhost:8080/"
        },
        "id": "M5Ve7SiR_hqQ",
        "outputId": "bd7fd16f-afeb-44a0-d8a9-cb6235b401f2"
      },
      "execution_count": null,
      "outputs": [
        {
          "output_type": "stream",
          "name": "stdout",
          "text": [
            "+------------------------------------------------------------+\n",
            "|varianza delle variazioni a livello mensile degli apparecchi|\n",
            "+------------------------------------------------------------+\n",
            "|                                           40.07434902377563|\n",
            "+------------------------------------------------------------+\n",
            "\n"
          ]
        }
      ]
    },
    {
      "cell_type": "markdown",
      "source": [
        "##Quesito 4: Per ogni luogo censito (colonna locations) qual’è la distribuzione percentuale della tipologia di apparecchi (colonna group_type) che si sono trovati in quel luogo lungo tutto il corso del tempo?"
      ],
      "metadata": {
        "id": "Chlf_yb9TMAB"
      }
    },
    {
      "cell_type": "code",
      "source": [
        "from pyspark.sql.window import Window\n",
        "\n",
        "window = Window.partitionBy(\"locations\")\n",
        "\n",
        "df_pos.join(df_var, [\"group_type\", \"squadron_number\", \"group_number\", \"subgroup\", \"date\"])\\\n",
        ".groupBy([\"locations\", \"group_type\"]).agg(F.sum(\"total\").alias(\"group_count\"))\\\n",
        ".withColumn(\"total_count_loc\", F.sum(\"group_count\").over(window))\\\n",
        ".withColumn(\"distribuzione percentuale\", F.round((F.col(\"group_count\") / F.col(\"total_count_loc\")) * 100, 2)).show()"
      ],
      "metadata": {
        "colab": {
          "base_uri": "https://localhost:8080/"
        },
        "id": "FNs2I74_1UQR",
        "outputId": "386c3400-a1ef-4b4a-b467-6bb62c618976"
      },
      "execution_count": null,
      "outputs": [
        {
          "output_type": "stream",
          "name": "stdout",
          "text": [
            "+----------------+--------------------+-----------+---------------+-------------------------+\n",
            "|       locations|          group_type|group_count|total_count_loc|distribuzione percentuale|\n",
            "+----------------+--------------------+-----------+---------------+-------------------------+\n",
            "|         Aalborg|      Jagdgeschwader|       35.0|           35.0|                    100.0|\n",
            "|    Aalborg-West|     Kampfgeschwader|        3.0|            3.0|                    100.0|\n",
            "|Abbeville-Drucat|      Jagdgeschwader|      351.0|          351.0|                    100.0|\n",
            "|          Achmer|     Kampfgeschwader|      116.0|          116.0|                    100.0|\n",
            "|     Achtirskaja|Sturzkampfgeschwader|       34.0|           34.0|                    100.0|\n",
            "|     Achtirskaya|Sturzkampfgeschwader|       88.0|           88.0|                    100.0|\n",
            "|         Ahlhorn|     Kampfgeschwader|       16.0|           16.0|                    100.0|\n",
            "|   Ain-el-Gazala|Sturzkampfgeschwader|       44.0|           44.0|                    100.0|\n",
            "|         Airasca|     Kampfgeschwader|      176.0|          192.0|                    91.67|\n",
            "|         Airasca|  Schlachtgeschwader|       16.0|          192.0|                     8.33|\n",
            "|             Aix|      Jagdgeschwader|      100.0|          100.0|                    100.0|\n",
            "|       Alakurtti|      Jagdgeschwader|      368.0|          682.0|                    53.96|\n",
            "|       Alakurtti|Sturzkampfgeschwader|      314.0|          682.0|                    46.04|\n",
            "|          Albano|      Jagdgeschwader|        3.0|            3.0|                    100.0|\n",
            "|      Alexejewka|      Jagdgeschwader|       40.0|           40.0|                    100.0|\n",
            "|      Alperstedt|      Jagdgeschwader|      199.0|          199.0|                    100.0|\n",
            "|   Alt-Lönnewitz|      Jagdgeschwader|       54.0|          157.0|                    34.39|\n",
            "|   Alt-Lönnewitz|     Kampfgeschwader|      103.0|          157.0|                    65.61|\n",
            "|       Altenburg|      Jagdgeschwader|        0.0|            0.0|                     null|\n",
            "|          Alteno|      Jagdgeschwader|      113.0|          113.0|                    100.0|\n",
            "+----------------+--------------------+-----------+---------------+-------------------------+\n",
            "only showing top 20 rows\n",
            "\n"
          ]
        }
      ]
    },
    {
      "cell_type": "markdown",
      "source": [
        "##Quesito 5: Qual è stato il mese più “letale” (quindi con più apparecchi persi in combattimento)?"
      ],
      "metadata": {
        "id": "aeTbk1qcaukv"
      }
    },
    {
      "cell_type": "code",
      "source": [
        "from pyspark.sql.functions import month\n",
        "\n",
        "df_var.na.drop(how=\"any\",subset=[\"lost_enemy\",\"date\"])\\\n",
        ".select(\"date\", \"lost_enemy\")\\\n",
        ".groupBy(month(df_var.date).alias(\"month\")).agg(F.sum(\"lost_enemy\").alias(\"total_lost_enemy\"))\\\n",
        ".agg(F.max_by(\"month\",\"total_lost_enemy\").alias(\"Mese più 'letale'\")).show()"
      ],
      "metadata": {
        "colab": {
          "base_uri": "https://localhost:8080/"
        },
        "id": "I12o7RPqvDG3",
        "outputId": "719d5295-3a7d-41ea-9f5f-f6d317716476"
      },
      "execution_count": null,
      "outputs": [
        {
          "output_type": "stream",
          "name": "stdout",
          "text": [
            "+-----------------+\n",
            "|Mese più 'letale'|\n",
            "+-----------------+\n",
            "|                7|\n",
            "+-----------------+\n",
            "\n"
          ]
        }
      ]
    }
  ]
}